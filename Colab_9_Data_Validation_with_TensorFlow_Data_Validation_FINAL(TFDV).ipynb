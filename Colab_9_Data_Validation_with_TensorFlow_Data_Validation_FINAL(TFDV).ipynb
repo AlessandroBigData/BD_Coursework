{
  "nbformat": 4,
  "nbformat_minor": 0,
  "metadata": {
    "colab": {
      "name": "Colab 9 - Data Validation with TensorFlow Data Validation (TFDV).ipynb",
      "version": "0.3.2",
      "provenance": [],
      "collapsed_sections": [],
      "include_colab_link": true
    },
    "kernelspec": {
      "name": "python2",
      "display_name": "Python 2"
    },
    "accelerator": "GPU"
  },
  "cells": [
    {
      "cell_type": "markdown",
      "metadata": {
        "id": "view-in-github",
        "colab_type": "text"
      },
      "source": [
        "<a href=\"https://colab.research.google.com/github/AlessandroBigData/BD_Coursework/blob/master/Colab_9_Data_Validation_with_TensorFlow_Data_Validation_FINAL(TFDV).ipynb\" target=\"_parent\"><img src=\"https://colab.research.google.com/assets/colab-badge.svg\" alt=\"Open In Colab\"/></a>"
      ]
    },
    {
      "cell_type": "markdown",
      "metadata": {
        "id": "wf6nxdDBtGN5",
        "colab_type": "text"
      },
      "source": [
        "## Stage 1: Install all dependencies and setting up the environment"
      ]
    },
    {
      "cell_type": "code",
      "metadata": {
        "id": "q8b1TeZBs_2S",
        "colab_type": "code",
        "outputId": "684e455f-6d98-489b-a86f-c65c3c1e1136",
        "colab": {
          "base_uri": "https://localhost:8080/",
          "height": 347
        }
      },
      "source": [
        "!apt-get install python-dev python-snappy"
      ],
      "execution_count": 2,
      "outputs": [
        {
          "output_type": "stream",
          "text": [
            "Reading package lists... Done\n",
            "Building dependency tree       \n",
            "Reading state information... Done\n",
            "python-dev is already the newest version (2.7.15~rc1-1).\n",
            "The following package was automatically installed and is no longer required:\n",
            "  libnvidia-common-410\n",
            "Use 'apt autoremove' to remove it.\n",
            "The following NEW packages will be installed:\n",
            "  python-snappy\n",
            "0 upgraded, 1 newly installed, 0 to remove and 4 not upgraded.\n",
            "Need to get 10.8 kB of archives.\n",
            "After this operation, 39.9 kB of additional disk space will be used.\n",
            "Get:1 http://archive.ubuntu.com/ubuntu bionic/universe amd64 python-snappy amd64 0.5-1.1build2 [10.8 kB]\n",
            "Fetched 10.8 kB in 0s (46.2 kB/s)\n",
            "Selecting previously unselected package python-snappy.\n",
            "(Reading database ... 131289 files and directories currently installed.)\n",
            "Preparing to unpack .../python-snappy_0.5-1.1build2_amd64.deb ...\n",
            "Unpacking python-snappy (0.5-1.1build2) ...\n",
            "Setting up python-snappy (0.5-1.1build2) ...\n"
          ],
          "name": "stdout"
        }
      ]
    },
    {
      "cell_type": "code",
      "metadata": {
        "id": "7bMUsv3JwU2A",
        "colab_type": "code",
        "outputId": "6e6ca6fd-23c8-4d4b-f21c-24cafe6500df",
        "colab": {
          "base_uri": "https://localhost:8080/",
          "height": 469
        }
      },
      "source": [
        "!pip install -q tensorflow_data_validation"
      ],
      "execution_count": 3,
      "outputs": [
        {
          "output_type": "stream",
          "text": [
            "\u001b[K     |████████████████████████████████| 2.4MB 2.9MB/s \n",
            "\u001b[K     |████████████████████████████████| 225kB 60.3MB/s \n",
            "\u001b[K     |████████████████████████████████| 2.8MB 40.5MB/s \n",
            "\u001b[K     |████████████████████████████████| 51kB 24.0MB/s \n",
            "\u001b[K     |████████████████████████████████| 51kB 22.9MB/s \n",
            "\u001b[K     |████████████████████████████████| 1.0MB 47.0MB/s \n",
            "\u001b[K     |████████████████████████████████| 153kB 63.6MB/s \n",
            "\u001b[K     |████████████████████████████████| 81kB 29.9MB/s \n",
            "\u001b[K     |████████████████████████████████| 143kB 58.7MB/s \n",
            "\u001b[K     |████████████████████████████████| 92kB 28.1MB/s \n",
            "\u001b[K     |████████████████████████████████| 102kB 34.3MB/s \n",
            "\u001b[K     |████████████████████████████████| 163kB 56.9MB/s \n",
            "\u001b[K     |████████████████████████████████| 92kB 31.7MB/s \n",
            "\u001b[?25h  Building wheel for tensorflow-transform (setup.py) ... \u001b[?25l\u001b[?25hdone\n",
            "  Building wheel for avro (setup.py) ... \u001b[?25l\u001b[?25hdone\n",
            "  Building wheel for hdfs (setup.py) ... \u001b[?25l\u001b[?25hdone\n",
            "  Building wheel for dill (setup.py) ... \u001b[?25l\u001b[?25hdone\n",
            "  Building wheel for oauth2client (setup.py) ... \u001b[?25l\u001b[?25hdone\n",
            "  Building wheel for pyvcf (setup.py) ... \u001b[?25l\u001b[?25hdone\n",
            "  Building wheel for proto-google-cloud-datastore-v1 (setup.py) ... \u001b[?25l\u001b[?25hdone\n",
            "  Building wheel for googledatastore (setup.py) ... \u001b[?25l\u001b[?25hdone\n",
            "  Building wheel for docopt (setup.py) ... \u001b[?25l\u001b[?25hdone\n",
            "  Building wheel for grpc-google-iam-v1 (setup.py) ... \u001b[?25l\u001b[?25hdone\n",
            "\u001b[31mERROR: google-cloud-storage 1.16.1 has requirement google-cloud-core<2.0dev,>=1.0.0, but you'll have google-cloud-core 0.29.1 which is incompatible.\u001b[0m\n",
            "\u001b[31mERROR: multiprocess 0.70.8 has requirement dill>=0.3.0, but you'll have dill 0.2.9 which is incompatible.\u001b[0m\n",
            "\u001b[31mERROR: google-cloud-translate 1.5.0 has requirement google-cloud-core<2.0dev,>=1.0.0, but you'll have google-cloud-core 0.29.1 which is incompatible.\u001b[0m\n"
          ],
          "name": "stdout"
        }
      ]
    },
    {
      "cell_type": "markdown",
      "metadata": {
        "id": "FO47q651xVKp",
        "colab_type": "text"
      },
      "source": [
        "## Stage 2: Import project dependencies"
      ]
    },
    {
      "cell_type": "code",
      "metadata": {
        "id": "v15-TQQ4wf4v",
        "colab_type": "code",
        "colab": {}
      },
      "source": [
        "import pandas as pd\n",
        "import tensorflow as tf\n",
        "import tensorflow_data_validation as tfdv\n",
        "\n",
        "from __future__ import print_function"
      ],
      "execution_count": 0,
      "outputs": []
    },
    {
      "cell_type": "markdown",
      "metadata": {
        "id": "S5LUUynDxvak",
        "colab_type": "text"
      },
      "source": [
        "## Stage 3: Simple dataset analysis"
      ]
    },
    {
      "cell_type": "code",
      "metadata": {
        "id": "v7r7kstFxfRQ",
        "colab_type": "code",
        "colab": {}
      },
      "source": [
        "dataset = pd.read_csv(\"pollution-small.csv\")"
      ],
      "execution_count": 0,
      "outputs": []
    },
    {
      "cell_type": "code",
      "metadata": {
        "id": "Ha53nh-HyqF3",
        "colab_type": "code",
        "outputId": "eebc84f1-0b0f-4ecb-ab1d-4d60075cdd12",
        "colab": {
          "base_uri": "https://localhost:8080/",
          "height": 34
        }
      },
      "source": [
        "dataset.shape"
      ],
      "execution_count": 10,
      "outputs": [
        {
          "output_type": "execute_result",
          "data": {
            "text/plain": [
              "(2188, 5)"
            ]
          },
          "metadata": {
            "tags": []
          },
          "execution_count": 10
        }
      ]
    },
    {
      "cell_type": "code",
      "metadata": {
        "id": "ej93eK0Aysv4",
        "colab_type": "code",
        "colab": {}
      },
      "source": [
        "training_data = dataset[:1600]"
      ],
      "execution_count": 0,
      "outputs": []
    },
    {
      "cell_type": "code",
      "metadata": {
        "id": "TTZVB628y38P",
        "colab_type": "code",
        "outputId": "846107e3-21e7-4847-eb20-de175699f5bf",
        "colab": {
          "base_uri": "https://localhost:8080/",
          "height": 300
        }
      },
      "source": [
        "training_data.describe()"
      ],
      "execution_count": 12,
      "outputs": [
        {
          "output_type": "execute_result",
          "data": {
            "text/html": [
              "<div>\n",
              "<style scoped>\n",
              "    .dataframe tbody tr th:only-of-type {\n",
              "        vertical-align: middle;\n",
              "    }\n",
              "\n",
              "    .dataframe tbody tr th {\n",
              "        vertical-align: top;\n",
              "    }\n",
              "\n",
              "    .dataframe thead th {\n",
              "        text-align: right;\n",
              "    }\n",
              "</style>\n",
              "<table border=\"1\" class=\"dataframe\">\n",
              "  <thead>\n",
              "    <tr style=\"text-align: right;\">\n",
              "      <th></th>\n",
              "      <th>pm10</th>\n",
              "      <th>no2</th>\n",
              "      <th>so2</th>\n",
              "      <th>soot</th>\n",
              "    </tr>\n",
              "  </thead>\n",
              "  <tbody>\n",
              "    <tr>\n",
              "      <th>count</th>\n",
              "      <td>1600.000000</td>\n",
              "      <td>1600.000000</td>\n",
              "      <td>1600.000000</td>\n",
              "      <td>1600.000000</td>\n",
              "    </tr>\n",
              "    <tr>\n",
              "      <th>mean</th>\n",
              "      <td>49.656494</td>\n",
              "      <td>30.980519</td>\n",
              "      <td>16.229981</td>\n",
              "      <td>21.551956</td>\n",
              "    </tr>\n",
              "    <tr>\n",
              "      <th>std</th>\n",
              "      <td>35.211906</td>\n",
              "      <td>12.400788</td>\n",
              "      <td>10.621896</td>\n",
              "      <td>12.127354</td>\n",
              "    </tr>\n",
              "    <tr>\n",
              "      <th>min</th>\n",
              "      <td>6.380000</td>\n",
              "      <td>9.740000</td>\n",
              "      <td>4.010000</td>\n",
              "      <td>6.000000</td>\n",
              "    </tr>\n",
              "    <tr>\n",
              "      <th>25%</th>\n",
              "      <td>28.345000</td>\n",
              "      <td>22.567500</td>\n",
              "      <td>9.777500</td>\n",
              "      <td>14.400000</td>\n",
              "    </tr>\n",
              "    <tr>\n",
              "      <th>50%</th>\n",
              "      <td>38.835000</td>\n",
              "      <td>28.715000</td>\n",
              "      <td>13.275000</td>\n",
              "      <td>18.630000</td>\n",
              "    </tr>\n",
              "    <tr>\n",
              "      <th>75%</th>\n",
              "      <td>58.050000</td>\n",
              "      <td>36.370000</td>\n",
              "      <td>19.282500</td>\n",
              "      <td>24.072500</td>\n",
              "    </tr>\n",
              "    <tr>\n",
              "      <th>max</th>\n",
              "      <td>277.250000</td>\n",
              "      <td>138.010000</td>\n",
              "      <td>123.130000</td>\n",
              "      <td>107.650000</td>\n",
              "    </tr>\n",
              "  </tbody>\n",
              "</table>\n",
              "</div>"
            ],
            "text/plain": [
              "              pm10          no2          so2         soot\n",
              "count  1600.000000  1600.000000  1600.000000  1600.000000\n",
              "mean     49.656494    30.980519    16.229981    21.551956\n",
              "std      35.211906    12.400788    10.621896    12.127354\n",
              "min       6.380000     9.740000     4.010000     6.000000\n",
              "25%      28.345000    22.567500     9.777500    14.400000\n",
              "50%      38.835000    28.715000    13.275000    18.630000\n",
              "75%      58.050000    36.370000    19.282500    24.072500\n",
              "max     277.250000   138.010000   123.130000   107.650000"
            ]
          },
          "metadata": {
            "tags": []
          },
          "execution_count": 12
        }
      ]
    },
    {
      "cell_type": "code",
      "metadata": {
        "id": "lNepyJ0gy9IZ",
        "colab_type": "code",
        "colab": {}
      },
      "source": [
        "test_set = dataset[1600:]"
      ],
      "execution_count": 0,
      "outputs": []
    },
    {
      "cell_type": "code",
      "metadata": {
        "id": "O9zmE9FEzgOH",
        "colab_type": "code",
        "outputId": "f668a530-707a-4ea6-f959-19f8fcd20ac0",
        "colab": {
          "base_uri": "https://localhost:8080/",
          "height": 300
        }
      },
      "source": [
        "test_set.describe()"
      ],
      "execution_count": 14,
      "outputs": [
        {
          "output_type": "execute_result",
          "data": {
            "text/html": [
              "<div>\n",
              "<style scoped>\n",
              "    .dataframe tbody tr th:only-of-type {\n",
              "        vertical-align: middle;\n",
              "    }\n",
              "\n",
              "    .dataframe tbody tr th {\n",
              "        vertical-align: top;\n",
              "    }\n",
              "\n",
              "    .dataframe thead th {\n",
              "        text-align: right;\n",
              "    }\n",
              "</style>\n",
              "<table border=\"1\" class=\"dataframe\">\n",
              "  <thead>\n",
              "    <tr style=\"text-align: right;\">\n",
              "      <th></th>\n",
              "      <th>pm10</th>\n",
              "      <th>no2</th>\n",
              "      <th>so2</th>\n",
              "      <th>soot</th>\n",
              "    </tr>\n",
              "  </thead>\n",
              "  <tbody>\n",
              "    <tr>\n",
              "      <th>count</th>\n",
              "      <td>588.000000</td>\n",
              "      <td>588.000000</td>\n",
              "      <td>588.000000</td>\n",
              "      <td>588.000000</td>\n",
              "    </tr>\n",
              "    <tr>\n",
              "      <th>mean</th>\n",
              "      <td>44.648248</td>\n",
              "      <td>37.296922</td>\n",
              "      <td>13.605170</td>\n",
              "      <td>18.441310</td>\n",
              "    </tr>\n",
              "    <tr>\n",
              "      <th>std</th>\n",
              "      <td>28.992087</td>\n",
              "      <td>10.940050</td>\n",
              "      <td>5.098944</td>\n",
              "      <td>6.596459</td>\n",
              "    </tr>\n",
              "    <tr>\n",
              "      <th>min</th>\n",
              "      <td>11.900000</td>\n",
              "      <td>15.070000</td>\n",
              "      <td>4.990000</td>\n",
              "      <td>8.000000</td>\n",
              "    </tr>\n",
              "    <tr>\n",
              "      <th>25%</th>\n",
              "      <td>28.337500</td>\n",
              "      <td>29.217500</td>\n",
              "      <td>10.122500</td>\n",
              "      <td>14.410000</td>\n",
              "    </tr>\n",
              "    <tr>\n",
              "      <th>50%</th>\n",
              "      <td>35.555000</td>\n",
              "      <td>35.815000</td>\n",
              "      <td>12.345000</td>\n",
              "      <td>17.090000</td>\n",
              "    </tr>\n",
              "    <tr>\n",
              "      <th>75%</th>\n",
              "      <td>50.812500</td>\n",
              "      <td>43.872500</td>\n",
              "      <td>15.855000</td>\n",
              "      <td>20.962500</td>\n",
              "    </tr>\n",
              "    <tr>\n",
              "      <th>max</th>\n",
              "      <td>273.770000</td>\n",
              "      <td>106.030000</td>\n",
              "      <td>38.030000</td>\n",
              "      <td>87.210000</td>\n",
              "    </tr>\n",
              "  </tbody>\n",
              "</table>\n",
              "</div>"
            ],
            "text/plain": [
              "             pm10         no2         so2        soot\n",
              "count  588.000000  588.000000  588.000000  588.000000\n",
              "mean    44.648248   37.296922   13.605170   18.441310\n",
              "std     28.992087   10.940050    5.098944    6.596459\n",
              "min     11.900000   15.070000    4.990000    8.000000\n",
              "25%     28.337500   29.217500   10.122500   14.410000\n",
              "50%     35.555000   35.815000   12.345000   17.090000\n",
              "75%     50.812500   43.872500   15.855000   20.962500\n",
              "max    273.770000  106.030000   38.030000   87.210000"
            ]
          },
          "metadata": {
            "tags": []
          },
          "execution_count": 14
        }
      ]
    },
    {
      "cell_type": "markdown",
      "metadata": {
        "id": "iGqBm9LZzyqi",
        "colab_type": "text"
      },
      "source": [
        "## Stage 3: Data analysis and validation with TFDV"
      ]
    },
    {
      "cell_type": "markdown",
      "metadata": {
        "id": "wAVQXEGG0RKH",
        "colab_type": "text"
      },
      "source": [
        "### Generate training data statistics"
      ]
    },
    {
      "cell_type": "code",
      "metadata": {
        "id": "WByxycNeziDA",
        "colab_type": "code",
        "colab": {}
      },
      "source": [
        "train_stats = tfdv.generate_statistics_from_dataframe(dataframe=dataset)"
      ],
      "execution_count": 0,
      "outputs": []
    },
    {
      "cell_type": "markdown",
      "metadata": {
        "id": "BitwkaZ00_iL",
        "colab_type": "text"
      },
      "source": [
        "### Infering the schema"
      ]
    },
    {
      "cell_type": "code",
      "metadata": {
        "id": "26We0ahE1CKP",
        "colab_type": "code",
        "colab": {}
      },
      "source": [
        "schema = tfdv.infer_schema(statistics=train_stats)"
      ],
      "execution_count": 0,
      "outputs": []
    },
    {
      "cell_type": "code",
      "metadata": {
        "id": "2ZHnaOxg24t3",
        "colab_type": "code",
        "outputId": "09043093-d9ce-4637-c01c-d3df72db24a7",
        "colab": {
          "base_uri": "https://localhost:8080/",
          "height": 237
        }
      },
      "source": [
        "tfdv.display_schema(schema)"
      ],
      "execution_count": 17,
      "outputs": [
        {
          "output_type": "display_data",
          "data": {
            "text/plain": [
              "               Type  Presence Valency Domain\n",
              "Feature name                                \n",
              "'soot'        FLOAT  required              -\n",
              "'no2'         FLOAT  required              -\n",
              "'pm10'        FLOAT  required              -\n",
              "'Date'        BYTES  required              -\n",
              "'so2'         FLOAT  required              -"
            ],
            "text/html": [
              "<div>\n",
              "<style scoped>\n",
              "    .dataframe tbody tr th:only-of-type {\n",
              "        vertical-align: middle;\n",
              "    }\n",
              "\n",
              "    .dataframe tbody tr th {\n",
              "        vertical-align: top;\n",
              "    }\n",
              "\n",
              "    .dataframe thead th {\n",
              "        text-align: right;\n",
              "    }\n",
              "</style>\n",
              "<table border=\"1\" class=\"dataframe\">\n",
              "  <thead>\n",
              "    <tr style=\"text-align: right;\">\n",
              "      <th></th>\n",
              "      <th>Type</th>\n",
              "      <th>Presence</th>\n",
              "      <th>Valency</th>\n",
              "      <th>Domain</th>\n",
              "    </tr>\n",
              "    <tr>\n",
              "      <th>Feature name</th>\n",
              "      <th></th>\n",
              "      <th></th>\n",
              "      <th></th>\n",
              "      <th></th>\n",
              "    </tr>\n",
              "  </thead>\n",
              "  <tbody>\n",
              "    <tr>\n",
              "      <th>'soot'</th>\n",
              "      <td>FLOAT</td>\n",
              "      <td>required</td>\n",
              "      <td></td>\n",
              "      <td>-</td>\n",
              "    </tr>\n",
              "    <tr>\n",
              "      <th>'no2'</th>\n",
              "      <td>FLOAT</td>\n",
              "      <td>required</td>\n",
              "      <td></td>\n",
              "      <td>-</td>\n",
              "    </tr>\n",
              "    <tr>\n",
              "      <th>'pm10'</th>\n",
              "      <td>FLOAT</td>\n",
              "      <td>required</td>\n",
              "      <td></td>\n",
              "      <td>-</td>\n",
              "    </tr>\n",
              "    <tr>\n",
              "      <th>'Date'</th>\n",
              "      <td>BYTES</td>\n",
              "      <td>required</td>\n",
              "      <td></td>\n",
              "      <td>-</td>\n",
              "    </tr>\n",
              "    <tr>\n",
              "      <th>'so2'</th>\n",
              "      <td>FLOAT</td>\n",
              "      <td>required</td>\n",
              "      <td></td>\n",
              "      <td>-</td>\n",
              "    </tr>\n",
              "  </tbody>\n",
              "</table>\n",
              "</div>"
            ]
          },
          "metadata": {
            "tags": []
          }
        }
      ]
    },
    {
      "cell_type": "markdown",
      "metadata": {
        "id": "uWtUFaJQ3Tuc",
        "colab_type": "text"
      },
      "source": [
        "### Calculate test set statistics"
      ]
    },
    {
      "cell_type": "code",
      "metadata": {
        "id": "ok3jQTVt2-zI",
        "colab_type": "code",
        "colab": {
          "base_uri": "https://localhost:8080/",
          "height": 54
        },
        "outputId": "43d96e70-bec8-449f-b04e-9f4e38e04316"
      },
      "source": [
        "test_stats = tfdv.generate_statistics_from_dataframe(dataframe=test_set)\n",
        "tfdv.visualize_statistics(test_stats)"
      ],
      "execution_count": 32,
      "outputs": [
        {
          "output_type": "display_data",
          "data": {
            "text/plain": [
              "<IPython.core.display.HTML object>"
            ],
            "text/html": [
              "<iframe id='facets-iframe' width=\"100%\" height=\"500px\"></iframe>\n",
              "        <script>\n",
              "        facets_iframe = document.getElementById('facets-iframe');\n",
              "        facets_html = '<link rel=\"import\" href=\"https://raw.githubusercontent.com/PAIR-code/facets/master/facets-dist/facets-jupyter.html\"><facets-overview proto-input=\"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\"></facets-overview>';\n",
              "        facets_iframe.contentWindow.document.write(facets_html);\n",
              "         facets_iframe.id = \"\";\n",
              "         setTimeout(() => {\n",
              "           facets_iframe.setAttribute('height', facets_iframe.contentWindow.document.body.offsetHeight + 'px')\n",
              "         }, 1500)\n",
              "         </script>"
            ]
          },
          "metadata": {
            "tags": []
          }
        }
      ]
    },
    {
      "cell_type": "markdown",
      "metadata": {
        "id": "6BnDXqiz3vy6",
        "colab_type": "text"
      },
      "source": [
        "## Stage 4: Compare test statistics with the Schema"
      ]
    },
    {
      "cell_type": "markdown",
      "metadata": {
        "id": "kWlDe6VJ37ko",
        "colab_type": "text"
      },
      "source": [
        "### Checking for anomalies in new data"
      ]
    },
    {
      "cell_type": "code",
      "metadata": {
        "id": "UAfRZBnL3qx3",
        "colab_type": "code",
        "colab": {}
      },
      "source": [
        "anomalies = tfdv.validate_statistics(statistics=test_stats, schema=schema)"
      ],
      "execution_count": 0,
      "outputs": []
    },
    {
      "cell_type": "markdown",
      "metadata": {
        "id": "shY10N0N3_DD",
        "colab_type": "text"
      },
      "source": [
        "### Displaying all detected anomalies\n",
        "\n",
        "- Integer larger than 10\n",
        "- STRING type when expected INT type\n",
        "- FLOAT type when expected INT type\n",
        "- Integer smaller than 0"
      ]
    },
    {
      "cell_type": "code",
      "metadata": {
        "id": "pexizEYr4Bqn",
        "colab_type": "code",
        "outputId": "8cc7a168-45e4-4897-ea5e-01898ced7d6d",
        "colab": {
          "base_uri": "https://localhost:8080/",
          "height": 57
        }
      },
      "source": [
        "tfdv.display_anomalies(anomalies)"
      ],
      "execution_count": 22,
      "outputs": [
        {
          "output_type": "display_data",
          "data": {
            "text/plain": [
              "<IPython.core.display.HTML object>"
            ],
            "text/html": [
              "<h4 style=\"color:green;\">No anomalies found.</h4>"
            ]
          },
          "metadata": {
            "tags": []
          }
        }
      ]
    },
    {
      "cell_type": "markdown",
      "metadata": {
        "id": "2aWeFdYQ4Cb5",
        "colab_type": "text"
      },
      "source": [
        "### New data WITH anomalies"
      ]
    },
    {
      "cell_type": "code",
      "metadata": {
        "id": "PQoDCrd04HK2",
        "colab_type": "code",
        "colab": {}
      },
      "source": [
        "test_set_copy = test_set.copy()"
      ],
      "execution_count": 0,
      "outputs": []
    },
    {
      "cell_type": "code",
      "metadata": {
        "id": "tldZL65465hm",
        "colab_type": "code",
        "colab": {
          "base_uri": "https://localhost:8080/",
          "height": 300
        },
        "outputId": "20aaa26b-91ef-403f-8204-305a8a981fc5"
      },
      "source": [
        "# Drop a Col and Shift the distribution\n",
        "test_set_copy.drop(\"soot\", axis=1, inplace=True)\n",
        "test_set_copy.pm10 = test_set_copy.pm10 * 100000\n",
        "\n",
        "test_set_copy.describe()"
      ],
      "execution_count": 25,
      "outputs": [
        {
          "output_type": "execute_result",
          "data": {
            "text/html": [
              "<div>\n",
              "<style scoped>\n",
              "    .dataframe tbody tr th:only-of-type {\n",
              "        vertical-align: middle;\n",
              "    }\n",
              "\n",
              "    .dataframe tbody tr th {\n",
              "        vertical-align: top;\n",
              "    }\n",
              "\n",
              "    .dataframe thead th {\n",
              "        text-align: right;\n",
              "    }\n",
              "</style>\n",
              "<table border=\"1\" class=\"dataframe\">\n",
              "  <thead>\n",
              "    <tr style=\"text-align: right;\">\n",
              "      <th></th>\n",
              "      <th>pm10</th>\n",
              "      <th>no2</th>\n",
              "      <th>so2</th>\n",
              "    </tr>\n",
              "  </thead>\n",
              "  <tbody>\n",
              "    <tr>\n",
              "      <th>count</th>\n",
              "      <td>5.880000e+02</td>\n",
              "      <td>588.000000</td>\n",
              "      <td>588.000000</td>\n",
              "    </tr>\n",
              "    <tr>\n",
              "      <th>mean</th>\n",
              "      <td>4.464825e+06</td>\n",
              "      <td>37.296922</td>\n",
              "      <td>13.605170</td>\n",
              "    </tr>\n",
              "    <tr>\n",
              "      <th>std</th>\n",
              "      <td>2.899209e+06</td>\n",
              "      <td>10.940050</td>\n",
              "      <td>5.098944</td>\n",
              "    </tr>\n",
              "    <tr>\n",
              "      <th>min</th>\n",
              "      <td>1.190000e+06</td>\n",
              "      <td>15.070000</td>\n",
              "      <td>4.990000</td>\n",
              "    </tr>\n",
              "    <tr>\n",
              "      <th>25%</th>\n",
              "      <td>2.833750e+06</td>\n",
              "      <td>29.217500</td>\n",
              "      <td>10.122500</td>\n",
              "    </tr>\n",
              "    <tr>\n",
              "      <th>50%</th>\n",
              "      <td>3.555500e+06</td>\n",
              "      <td>35.815000</td>\n",
              "      <td>12.345000</td>\n",
              "    </tr>\n",
              "    <tr>\n",
              "      <th>75%</th>\n",
              "      <td>5.081250e+06</td>\n",
              "      <td>43.872500</td>\n",
              "      <td>15.855000</td>\n",
              "    </tr>\n",
              "    <tr>\n",
              "      <th>max</th>\n",
              "      <td>2.737700e+07</td>\n",
              "      <td>106.030000</td>\n",
              "      <td>38.030000</td>\n",
              "    </tr>\n",
              "  </tbody>\n",
              "</table>\n",
              "</div>"
            ],
            "text/plain": [
              "               pm10         no2         so2\n",
              "count  5.880000e+02  588.000000  588.000000\n",
              "mean   4.464825e+06   37.296922   13.605170\n",
              "std    2.899209e+06   10.940050    5.098944\n",
              "min    1.190000e+06   15.070000    4.990000\n",
              "25%    2.833750e+06   29.217500   10.122500\n",
              "50%    3.555500e+06   35.815000   12.345000\n",
              "75%    5.081250e+06   43.872500   15.855000\n",
              "max    2.737700e+07  106.030000   38.030000"
            ]
          },
          "metadata": {
            "tags": []
          },
          "execution_count": 25
        }
      ]
    },
    {
      "cell_type": "code",
      "metadata": {
        "id": "u7Nz40rz5nIS",
        "colab_type": "code",
        "colab": {
          "base_uri": "https://localhost:8080/",
          "height": 34
        },
        "outputId": "599e3b22-9bc0-48da-81e4-4ef556365917"
      },
      "source": [
        "# Shuffle cols\n",
        "cols = test_set_copy.columns.tolist()\n",
        "cols = cols[-1:] + cols[:-1]\n",
        "\n",
        "print(cols)"
      ],
      "execution_count": 34,
      "outputs": [
        {
          "output_type": "stream",
          "text": [
            "['soot', 'Date', 'pm10', 'no2', 'so2']\n"
          ],
          "name": "stdout"
        }
      ]
    },
    {
      "cell_type": "code",
      "metadata": {
        "id": "CQUZYwHi6Za4",
        "colab_type": "code",
        "colab": {}
      },
      "source": [
        "# Add a new column\n",
        "test_set_copy[\"new_col\"] = 1"
      ],
      "execution_count": 0,
      "outputs": []
    },
    {
      "cell_type": "markdown",
      "metadata": {
        "id": "O6AbhtEY4Hp-",
        "colab_type": "text"
      },
      "source": [
        "### Statistics based on data with anomalies"
      ]
    },
    {
      "cell_type": "code",
      "metadata": {
        "id": "DNXMz0gD4Skv",
        "colab_type": "code",
        "colab": {}
      },
      "source": [
        "test_set_copy_stats = tfdv.generate_statistics_from_dataframe(dataframe=test_set_copy)\n"
      ],
      "execution_count": 0,
      "outputs": []
    },
    {
      "cell_type": "code",
      "metadata": {
        "id": "wJQS09K17XKf",
        "colab_type": "code",
        "colab": {}
      },
      "source": [
        "\n",
        "anomalies_new = tfdv.validate_statistics(statistics=test_set_copy_stats, schema=schema)"
      ],
      "execution_count": 0,
      "outputs": []
    },
    {
      "cell_type": "code",
      "metadata": {
        "id": "texSxcnO7h8Q",
        "colab_type": "code",
        "outputId": "ed22ac75-a6ca-4d0a-cef0-91aab54bb47a",
        "colab": {
          "base_uri": "https://localhost:8080/",
          "height": 112
        }
      },
      "source": [
        "tfdv.display_anomalies(anomalies_new)"
      ],
      "execution_count": 42,
      "outputs": [
        {
          "output_type": "display_data",
          "data": {
            "text/plain": [
              "             Anomaly short description                       Anomaly long description\n",
              "Feature name                                                                         \n",
              "'new_col'     New column                New column (column in data but not in schema)"
            ],
            "text/html": [
              "<div>\n",
              "<style scoped>\n",
              "    .dataframe tbody tr th:only-of-type {\n",
              "        vertical-align: middle;\n",
              "    }\n",
              "\n",
              "    .dataframe tbody tr th {\n",
              "        vertical-align: top;\n",
              "    }\n",
              "\n",
              "    .dataframe thead th {\n",
              "        text-align: right;\n",
              "    }\n",
              "</style>\n",
              "<table border=\"1\" class=\"dataframe\">\n",
              "  <thead>\n",
              "    <tr style=\"text-align: right;\">\n",
              "      <th></th>\n",
              "      <th>Anomaly short description</th>\n",
              "      <th>Anomaly long description</th>\n",
              "    </tr>\n",
              "    <tr>\n",
              "      <th>Feature name</th>\n",
              "      <th></th>\n",
              "      <th></th>\n",
              "    </tr>\n",
              "  </thead>\n",
              "  <tbody>\n",
              "    <tr>\n",
              "      <th>'new_col'</th>\n",
              "      <td>New column</td>\n",
              "      <td>New column (column in data but not in schema)</td>\n",
              "    </tr>\n",
              "  </tbody>\n",
              "</table>\n",
              "</div>"
            ]
          },
          "metadata": {
            "tags": []
          }
        }
      ]
    },
    {
      "cell_type": "markdown",
      "metadata": {
        "id": "IlrBt63h7_UB",
        "colab_type": "text"
      },
      "source": [
        "## Stage 5: Prepare the schema for Serving"
      ]
    },
    {
      "cell_type": "code",
      "metadata": {
        "id": "MgWLB_TW8Epa",
        "colab_type": "code",
        "colab": {}
      },
      "source": [
        "schema.default_environment.append(\"TRAINING\")\n",
        "schema.default_environment.append(\"SERVING\")"
      ],
      "execution_count": 0,
      "outputs": []
    },
    {
      "cell_type": "markdown",
      "metadata": {
        "id": "BSuPxRpr8Cxg",
        "colab_type": "text"
      },
      "source": [
        "### Removing a target column from the Serving shema"
      ]
    },
    {
      "cell_type": "code",
      "metadata": {
        "id": "8_H9a7WD7l3A",
        "colab_type": "code",
        "colab": {}
      },
      "source": [
        "tfdv.get_feature(schema, \"soot\").not_in_environment.append(\"SERVING\")"
      ],
      "execution_count": 0,
      "outputs": []
    },
    {
      "cell_type": "markdown",
      "metadata": {
        "id": "QonMtSXb8KWY",
        "colab_type": "text"
      },
      "source": [
        "### Checking for anomalies between the SERVING environment and new test set"
      ]
    },
    {
      "cell_type": "code",
      "metadata": {
        "id": "ZXdZ9tk58Rh_",
        "colab_type": "code",
        "colab": {}
      },
      "source": [
        "serving_env_anomalies = tfdv.validate_statistics(test_set_copy_stats, schema, environment=\"SERVING\")"
      ],
      "execution_count": 0,
      "outputs": []
    },
    {
      "cell_type": "code",
      "metadata": {
        "id": "05jDXv8o_J0O",
        "colab_type": "code",
        "outputId": "074e2a61-4013-49ae-8a4a-cece91431064",
        "colab": {
          "base_uri": "https://localhost:8080/",
          "height": 57
        }
      },
      "source": [
        "tfdv.display_anomalies(serving_env_anomalies)"
      ],
      "execution_count": 0,
      "outputs": [
        {
          "output_type": "display_data",
          "data": {
            "text/plain": [
              "<IPython.core.display.HTML object>"
            ],
            "text/html": [
              "<h4 style=\"color:green;\">No anomalies found.</h4>"
            ]
          },
          "metadata": {
            "tags": []
          }
        }
      ]
    },
    {
      "cell_type": "code",
      "metadata": {
        "id": "-Ok0E4AwzbH0",
        "colab_type": "code",
        "colab": {}
      },
      "source": [
        ""
      ],
      "execution_count": 0,
      "outputs": []
    }
  ]
}